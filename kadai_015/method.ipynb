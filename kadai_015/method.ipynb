{
  "nbformat": 4,
  "nbformat_minor": 0,
  "metadata": {
    "colab": {
      "provenance": []
    },
    "kernelspec": {
      "name": "python3",
      "display_name": "Python 3"
    },
    "language_info": {
      "name": "python"
    }
  },
  "cells": [
    {
      "cell_type": "code",
      "source": [
        "class Human:\n",
        "  def __init__(self):\n",
        "    self.name = \"\"\n",
        "    self.age = \"\"\n",
        "\n",
        "  def set_printinfo(self, name, age):\n",
        "    self.name = name\n",
        "    self.age = age\n",
        "    print(self.name, age)\n",
        "\n",
        "human = Human()\n",
        "human.set_printinfo(\"Timmy\", 36)"
      ],
      "metadata": {
        "colab": {
          "base_uri": "https://localhost:8080/"
        },
        "id": "oy7EOV3vDObg",
        "outputId": "baf69d49-2c9b-47cf-983c-cd301432dd4c"
      },
      "execution_count": 40,
      "outputs": [
        {
          "output_type": "stream",
          "name": "stdout",
          "text": [
            "Timmy 36\n"
          ]
        }
      ]
    }
  ]
}