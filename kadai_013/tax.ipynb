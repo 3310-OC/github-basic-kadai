{
  "nbformat": 4,
  "nbformat_minor": 0,
  "metadata": {
    "colab": {
      "provenance": []
    },
    "kernelspec": {
      "name": "python3",
      "display_name": "Python 3"
    },
    "language_info": {
      "name": "python"
    }
  },
  "cells": [
    {
      "cell_type": "code",
      "source": [
        "def total_price(price,tax):\n",
        "  return price * tax\n",
        "\n",
        "\n",
        "total_price(12000,1.1)"
      ],
      "metadata": {
        "colab": {
          "base_uri": "https://localhost:8080/"
        },
        "id": "nTAWhuwurqPi",
        "outputId": "fa0025fa-281b-4ae0-f8c2-1f24bb12d102"
      },
      "execution_count": 11,
      "outputs": [
        {
          "output_type": "execute_result",
          "data": {
            "text/plain": [
              "13200.000000000002"
            ]
          },
          "metadata": {},
          "execution_count": 11
        }
      ]
    }
  ]
}